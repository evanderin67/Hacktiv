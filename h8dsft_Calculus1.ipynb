version https://git-lfs.github.com/spec/v1
oid sha256:9deac815a21c014eb766c7ac59b7401b162e396f039978a75d23a14fb69eab74
size 2603
