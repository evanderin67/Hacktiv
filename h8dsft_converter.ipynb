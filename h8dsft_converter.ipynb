{
 "cells": [
  {
   "cell_type": "markdown",
   "metadata": {},
   "source": [
    "# Objective"
   ]
  },
  {
   "cell_type": "markdown",
   "metadata": {},
   "source": [
    "###\n",
    "1.  Buatlah sebuah function yang dapat mengkonversi\n",
    "suhu dari kelvin ke celcius, dan celcius ke kelvin.\n",
    "2. Buatlah sebuah function yang dapat mengkonversi\n",
    "suhu ke fahrenheit. Tambahkan parameter untuk\n",
    "memastikan bahwa argumen yang dimasukan adalah\n",
    "celcius atau kelvin. Panggil function yang pertama jika\n",
    "diperlukan.\n",
    "3. Buatlah sebuah function yang dapat mengkonversi\n",
    "suhu dari fahrenheit. Berikan argumen untuk\n",
    "memastikan bahwa outputnya dalah celcius atau kelvin.\n",
    "4. Berikan dokumentasi pada setiap baris kode yang\n",
    "kalian tulis."
   ]
  },
  {
   "cell_type": "markdown",
   "metadata": {},
   "source": [
    "# Coding"
   ]
  },
  {
   "cell_type": "code",
   "execution_count": 38,
   "metadata": {},
   "outputs": [],
   "source": [
    "#Definisi Fungsi\n",
    "def konversi(suhu : float, input : str , output : str ):\n",
    "    # Filter Parameter Input dan Output\n",
    "    if (input or output) not in (\"K\", \"C\", \"F\"):\n",
    "        print(\"Argument suhu salah (tidak dalam K,C,F)\")\n",
    "\n",
    "    #Konversi\n",
    "    if input == 'C' and output == 'K':  #Konversi Celcius ke Kelvin\n",
    "        suhu_konversi = suhu + 273.15\n",
    "    elif input == 'K' and output == 'C': #Konversi Kelvin ke Celcius\n",
    "        suhu_konversi = suhu - 273.15\n",
    "    elif input == 'F' and output == 'C': #Konversi Fahrenheit ke Celcius\n",
    "        suhu_konversi = (suhu-32)*5/9\n",
    "    elif input == 'F' and output == 'K': #Konversi Fahrenheit ke Kelvin\n",
    "        suhu_konversi = (suhu+ 459.67)*5/9\n",
    "    elif input == 'C' and output == 'F': #Konversi Celcius ke Fahrenheit\n",
    "        suhu_konversi = suhu*9/5 + 32\n",
    "    elif input == 'K' and output == 'F': #Konversi Kelvin ke Fahrenheit\n",
    "        suhu_konversi = suhu*9/5 -459.67\n",
    "    \n",
    "    print(f\"Suhu konversi {suhu} {input} adalah {suhu_konversi} {output} \") #Print Output\n",
    "    \n",
    "    return suhu, input, suhu_konversi, output #Return Output\n",
    "\n",
    "\n",
    "\n"
   ]
  },
  {
   "cell_type": "code",
   "execution_count": 39,
   "metadata": {},
   "outputs": [
    {
     "name": "stdout",
     "output_type": "stream",
     "text": [
      "Suhu konversi 20 F adalah 266.48333333333335 K \n"
     ]
    }
   ],
   "source": [
    "#Test Fungsi\n",
    "\n",
    "test_1 = konversi(20,'F','K')\n"
   ]
  },
  {
   "cell_type": "code",
   "execution_count": null,
   "metadata": {},
   "outputs": [],
   "source": []
  }
 ],
 "metadata": {
  "kernelspec": {
   "display_name": "Python 3.11.0 64-bit",
   "language": "python",
   "name": "python3"
  },
  "language_info": {
   "codemirror_mode": {
    "name": "ipython",
    "version": 3
   },
   "file_extension": ".py",
   "mimetype": "text/x-python",
   "name": "python",
   "nbconvert_exporter": "python",
   "pygments_lexer": "ipython3",
   "version": "3.11.0"
  },
  "orig_nbformat": 4,
  "vscode": {
   "interpreter": {
    "hash": "d417a21d97a2e6b8832d21dc44f5cbe4be6e18325f874a8bb8484565b928cd54"
   }
  }
 },
 "nbformat": 4,
 "nbformat_minor": 2
}
