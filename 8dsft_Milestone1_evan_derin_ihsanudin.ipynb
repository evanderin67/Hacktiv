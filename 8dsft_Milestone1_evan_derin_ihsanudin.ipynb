version https://git-lfs.github.com/spec/v1
oid sha256:0d668a840d99c564c2079d29a82b757bd2549e20fc5a5218f3c7868f7ba920d9
size 440226
