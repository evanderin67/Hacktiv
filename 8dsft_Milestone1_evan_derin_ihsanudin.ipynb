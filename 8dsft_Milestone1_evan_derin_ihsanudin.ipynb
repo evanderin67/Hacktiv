version https://git-lfs.github.com/spec/v1
oid sha256:3c4b3eebe006cbd7ce5cd0e570ab795d200d1e3ea73cbd8ac3c79b8f895a2e96
size 4385992
