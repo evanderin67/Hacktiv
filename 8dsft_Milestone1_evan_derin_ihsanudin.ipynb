version https://git-lfs.github.com/spec/v1
oid sha256:82cc51712cf1e51a202b02d54c58bd4803e212b04306f165b6ba15a53816e7fa
size 439414
