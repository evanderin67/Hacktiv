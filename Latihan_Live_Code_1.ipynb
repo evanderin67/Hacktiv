{
  "cells": [
    {
      "cell_type": "markdown",
      "metadata": {
        "id": "q9lOjL1Mso9u"
      },
      "source": [
        "# Soal latihan untuk persiapan Live Code 1\n",
        "\n",
        "Kisi-kisi apa saja yang akan keluar:\n",
        "- Load data pandas menggunakan pd.read_csv, pd.read_excel.\n",
        "- Pembuatan dan penggunaan fungsi \n",
        "- Pandas Query/Filtering\n",
        "- For loop dan conditional if yang diterapkan pada pandas\n",
        "- Akses row dataframe pandas menggunakan loc/iloc\n",
        "- Akses kolom dataframe pandas\n",
        "- Penggunaan method di dataframe/series pandas terutama method agregat (rata-rata, min, max, count, std, dll)"
      ]
    },
    {
      "cell_type": "code",
      "execution_count": 1,
      "metadata": {
        "colab": {
          "base_uri": "https://localhost:8080/",
          "height": 677
        },
        "id": "tSITOEnxo1aN",
        "outputId": "cb694585-bec4-415c-e34b-de712a68a45f"
      },
      "outputs": [
        {
          "data": {
            "text/html": [
              "<div>\n",
              "<style scoped>\n",
              "    .dataframe tbody tr th:only-of-type {\n",
              "        vertical-align: middle;\n",
              "    }\n",
              "\n",
              "    .dataframe tbody tr th {\n",
              "        vertical-align: top;\n",
              "    }\n",
              "\n",
              "    .dataframe thead th {\n",
              "        text-align: right;\n",
              "    }\n",
              "</style>\n",
              "<table border=\"1\" class=\"dataframe\">\n",
              "  <thead>\n",
              "    <tr style=\"text-align: right;\">\n",
              "      <th></th>\n",
              "      <th>sisi1</th>\n",
              "      <th>sisi2</th>\n",
              "    </tr>\n",
              "  </thead>\n",
              "  <tbody>\n",
              "    <tr>\n",
              "      <th>0</th>\n",
              "      <td>22</td>\n",
              "      <td>10</td>\n",
              "    </tr>\n",
              "    <tr>\n",
              "      <th>1</th>\n",
              "      <td>15</td>\n",
              "      <td>5</td>\n",
              "    </tr>\n",
              "    <tr>\n",
              "      <th>2</th>\n",
              "      <td>9</td>\n",
              "      <td>5</td>\n",
              "    </tr>\n",
              "    <tr>\n",
              "      <th>3</th>\n",
              "      <td>5</td>\n",
              "      <td>13</td>\n",
              "    </tr>\n",
              "    <tr>\n",
              "      <th>4</th>\n",
              "      <td>17</td>\n",
              "      <td>6</td>\n",
              "    </tr>\n",
              "    <tr>\n",
              "      <th>5</th>\n",
              "      <td>22</td>\n",
              "      <td>12</td>\n",
              "    </tr>\n",
              "    <tr>\n",
              "      <th>6</th>\n",
              "      <td>16</td>\n",
              "      <td>8</td>\n",
              "    </tr>\n",
              "    <tr>\n",
              "      <th>7</th>\n",
              "      <td>6</td>\n",
              "      <td>5</td>\n",
              "    </tr>\n",
              "    <tr>\n",
              "      <th>8</th>\n",
              "      <td>6</td>\n",
              "      <td>16</td>\n",
              "    </tr>\n",
              "    <tr>\n",
              "      <th>9</th>\n",
              "      <td>20</td>\n",
              "      <td>17</td>\n",
              "    </tr>\n",
              "    <tr>\n",
              "      <th>10</th>\n",
              "      <td>8</td>\n",
              "      <td>5</td>\n",
              "    </tr>\n",
              "    <tr>\n",
              "      <th>11</th>\n",
              "      <td>30</td>\n",
              "      <td>22</td>\n",
              "    </tr>\n",
              "    <tr>\n",
              "      <th>12</th>\n",
              "      <td>9</td>\n",
              "      <td>12</td>\n",
              "    </tr>\n",
              "    <tr>\n",
              "      <th>13</th>\n",
              "      <td>15</td>\n",
              "      <td>10</td>\n",
              "    </tr>\n",
              "    <tr>\n",
              "      <th>14</th>\n",
              "      <td>11</td>\n",
              "      <td>15</td>\n",
              "    </tr>\n",
              "    <tr>\n",
              "      <th>15</th>\n",
              "      <td>17</td>\n",
              "      <td>3</td>\n",
              "    </tr>\n",
              "    <tr>\n",
              "      <th>16</th>\n",
              "      <td>5</td>\n",
              "      <td>6</td>\n",
              "    </tr>\n",
              "    <tr>\n",
              "      <th>17</th>\n",
              "      <td>16</td>\n",
              "      <td>13</td>\n",
              "    </tr>\n",
              "    <tr>\n",
              "      <th>18</th>\n",
              "      <td>9</td>\n",
              "      <td>15</td>\n",
              "    </tr>\n",
              "    <tr>\n",
              "      <th>19</th>\n",
              "      <td>26</td>\n",
              "      <td>5</td>\n",
              "    </tr>\n",
              "  </tbody>\n",
              "</table>\n",
              "</div>"
            ],
            "text/plain": [
              "    sisi1  sisi2\n",
              "0      22     10\n",
              "1      15      5\n",
              "2       9      5\n",
              "3       5     13\n",
              "4      17      6\n",
              "5      22     12\n",
              "6      16      8\n",
              "7       6      5\n",
              "8       6     16\n",
              "9      20     17\n",
              "10      8      5\n",
              "11     30     22\n",
              "12      9     12\n",
              "13     15     10\n",
              "14     11     15\n",
              "15     17      3\n",
              "16      5      6\n",
              "17     16     13\n",
              "18      9     15\n",
              "19     26      5"
            ]
          },
          "execution_count": 1,
          "metadata": {},
          "output_type": "execute_result"
        }
      ],
      "source": [
        "import pandas as pd\n",
        "\n",
        "sisi_1 = [22, 15, 9, 5, 17, 22, 16, 6, 6, 20, 8, 30, 9, 15, 11, 17, 5, 16, 9, 26]\n",
        "sisi_2 = [10, 5, 5, 13, 6, 12, 8, 5, 16, 17, 5, 22, 12, 10, 15, 3, 6, 13, 15, 5]\n",
        "\n",
        "df = pd.DataFrame({'sisi1': sisi_1, 'sisi2': sisi_2})\n",
        "df"
      ]
    },
    {
      "cell_type": "markdown",
      "metadata": {
        "id": "Z0Z8LCVRXMkg"
      },
      "source": [
        "1. Buatlah dua fungsi untuk menghitung luas persegi dan jajargenjang"
      ]
    },
    {
      "cell_type": "code",
      "execution_count": 2,
      "metadata": {
        "id": "M_GV53OD-JEO"
      },
      "outputs": [],
      "source": [
        "#dDefine luas persegi dengan rumus = sisi 1 x sisi 2\n",
        "def luas_persegi (s1,s2):\n",
        "    luas = s1*s2\n",
        "    return luas"
      ]
    },
    {
      "cell_type": "code",
      "execution_count": 36,
      "metadata": {},
      "outputs": [],
      "source": [
        "#Diasumsikan S2 sebagai sisi miring. karena luas jajar genjang = alas x tinggi. maka perlu mencari tinggi terlebih dahulu. untuk mencari tinggi bisa memanfaatkan sifat cosinus\n",
        "import math\n",
        "def luas_jajar(s1,s2):\n",
        "    t = math.sin(math.radians(45))*s2\n",
        "    luas = s1 * t\n",
        "    return luas\n"
      ]
    },
    {
      "cell_type": "markdown",
      "metadata": {
        "id": "qSoPnMpeo6Vk"
      },
      "source": [
        "2. Dengan data berikut, buatlah kolom baru yang bernama `luas` yang menyimpan hasil perhitungan luas persegi dan jajargenjang, dimana untuk kolom sisi1 yang nilainya lebih dari 10 akan dihitung luas persegi, dan kurang dari 10 dihitung jajargenjang. **(Hint: Gunakan for loop dan if statement untuk mengerjakan nomor 2, kamu bisa menggunakan list untuk menyimpan perhitungan sementara, setelahnya dapat dimasukkan ke kolom luas)**."
      ]
    },
    {
      "cell_type": "code",
      "execution_count": 38,
      "metadata": {},
      "outputs": [],
      "source": [
        "#Definisi isi kolom luas dan isinya\n",
        "col_luas = []\n",
        "for i,j in zip(df['sisi1'], df['sisi2']):\n",
        "    if i < 10:\n",
        "        col_luas.append(luas_jajar(i,j))\n",
        "    else:\n",
        "         col_luas.append(luas_persegi(i,j))"
      ]
    },
    {
      "cell_type": "code",
      "execution_count": 40,
      "metadata": {},
      "outputs": [],
      "source": [
        "#menambahkan kolom luas\n",
        "df['luas'] = col_luas"
      ]
    },
    {
      "cell_type": "code",
      "execution_count": 41,
      "metadata": {},
      "outputs": [
        {
          "data": {
            "text/html": [
              "<div>\n",
              "<style scoped>\n",
              "    .dataframe tbody tr th:only-of-type {\n",
              "        vertical-align: middle;\n",
              "    }\n",
              "\n",
              "    .dataframe tbody tr th {\n",
              "        vertical-align: top;\n",
              "    }\n",
              "\n",
              "    .dataframe thead th {\n",
              "        text-align: right;\n",
              "    }\n",
              "</style>\n",
              "<table border=\"1\" class=\"dataframe\">\n",
              "  <thead>\n",
              "    <tr style=\"text-align: right;\">\n",
              "      <th></th>\n",
              "      <th>sisi1</th>\n",
              "      <th>sisi2</th>\n",
              "      <th>luas</th>\n",
              "    </tr>\n",
              "  </thead>\n",
              "  <tbody>\n",
              "    <tr>\n",
              "      <th>0</th>\n",
              "      <td>22</td>\n",
              "      <td>10</td>\n",
              "      <td>220.000000</td>\n",
              "    </tr>\n",
              "    <tr>\n",
              "      <th>1</th>\n",
              "      <td>15</td>\n",
              "      <td>5</td>\n",
              "      <td>75.000000</td>\n",
              "    </tr>\n",
              "    <tr>\n",
              "      <th>2</th>\n",
              "      <td>9</td>\n",
              "      <td>5</td>\n",
              "      <td>31.819805</td>\n",
              "    </tr>\n",
              "    <tr>\n",
              "      <th>3</th>\n",
              "      <td>5</td>\n",
              "      <td>13</td>\n",
              "      <td>45.961941</td>\n",
              "    </tr>\n",
              "    <tr>\n",
              "      <th>4</th>\n",
              "      <td>17</td>\n",
              "      <td>6</td>\n",
              "      <td>102.000000</td>\n",
              "    </tr>\n",
              "  </tbody>\n",
              "</table>\n",
              "</div>"
            ],
            "text/plain": [
              "   sisi1  sisi2        luas\n",
              "0     22     10  220.000000\n",
              "1     15      5   75.000000\n",
              "2      9      5   31.819805\n",
              "3      5     13   45.961941\n",
              "4     17      6  102.000000"
            ]
          },
          "execution_count": 41,
          "metadata": {},
          "output_type": "execute_result"
        }
      ],
      "source": [
        "df.head()"
      ]
    },
    {
      "cell_type": "markdown",
      "metadata": {
        "id": "TyDEajOjqY6S"
      },
      "source": [
        "3. Hitung standar deviasi (.std) kolom luas dimana sisi1 lebih dari 10 atau sisi 2 ganjil"
      ]
    },
    {
      "cell_type": "code",
      "execution_count": 44,
      "metadata": {
        "id": "_QGxle0IB9F7"
      },
      "outputs": [
        {
          "data": {
            "text/plain": [
              "sisi1      7.036669\n",
              "sisi2      5.355728\n",
              "luas     156.893489\n",
              "dtype: float64"
            ]
          },
          "execution_count": 44,
          "metadata": {},
          "output_type": "execute_result"
        }
      ],
      "source": [
        "#menghitung standar deviasi\n",
        "df[(df['sisi1']>10) | (df['sisi2']%2 != 0)].std()"
      ]
    },
    {
      "cell_type": "code",
      "execution_count": null,
      "metadata": {},
      "outputs": [],
      "source": []
    }
  ],
  "metadata": {
    "colab": {
      "provenance": []
    },
    "kernelspec": {
      "display_name": "Python 3.11.0 64-bit",
      "language": "python",
      "name": "python3"
    },
    "language_info": {
      "codemirror_mode": {
        "name": "ipython",
        "version": 3
      },
      "file_extension": ".py",
      "mimetype": "text/x-python",
      "name": "python",
      "nbconvert_exporter": "python",
      "pygments_lexer": "ipython3",
      "version": "3.11.0"
    },
    "vscode": {
      "interpreter": {
        "hash": "d417a21d97a2e6b8832d21dc44f5cbe4be6e18325f874a8bb8484565b928cd54"
      }
    }
  },
  "nbformat": 4,
  "nbformat_minor": 0
}
